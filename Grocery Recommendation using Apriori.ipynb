{
 "cells": [
  {
   "cell_type": "markdown",
   "metadata": {},
   "source": [
    "### Online Grocery Recommnedation using Apriori Algorithm\n"
   ]
  },
  {
   "cell_type": "code",
   "execution_count": 1,
   "metadata": {},
   "outputs": [],
   "source": [
    "# !pip install apyori\n",
    "import pandas as pd\n",
    "import numpy as np"
   ]
  },
  {
   "cell_type": "code",
   "execution_count": 2,
   "metadata": {},
   "outputs": [],
   "source": [
    "df=pd.read_csv('GroceryStoreDataSet.csv', sep=\",\", header=None, index_col=None)"
   ]
  },
  {
   "cell_type": "code",
   "execution_count": 3,
   "metadata": {},
   "outputs": [
    {
     "data": {
      "text/html": [
       "<div>\n",
       "<style scoped>\n",
       "    .dataframe tbody tr th:only-of-type {\n",
       "        vertical-align: middle;\n",
       "    }\n",
       "\n",
       "    .dataframe tbody tr th {\n",
       "        vertical-align: top;\n",
       "    }\n",
       "\n",
       "    .dataframe thead th {\n",
       "        text-align: right;\n",
       "    }\n",
       "</style>\n",
       "<table border=\"1\" class=\"dataframe\">\n",
       "  <thead>\n",
       "    <tr style=\"text-align: right;\">\n",
       "      <th></th>\n",
       "      <th>0</th>\n",
       "      <th>1</th>\n",
       "      <th>2</th>\n",
       "      <th>3</th>\n",
       "    </tr>\n",
       "  </thead>\n",
       "  <tbody>\n",
       "    <tr>\n",
       "      <th>0</th>\n",
       "      <td>BREAD</td>\n",
       "      <td>MILK</td>\n",
       "      <td>BISCUIT</td>\n",
       "      <td>CORNFLAKES</td>\n",
       "    </tr>\n",
       "    <tr>\n",
       "      <th>1</th>\n",
       "      <td>MILK</td>\n",
       "      <td>BREAD</td>\n",
       "      <td>BISCUIT</td>\n",
       "      <td>NaN</td>\n",
       "    </tr>\n",
       "    <tr>\n",
       "      <th>2</th>\n",
       "      <td>BREAD</td>\n",
       "      <td>TEA</td>\n",
       "      <td>BOURNVITA</td>\n",
       "      <td>NaN</td>\n",
       "    </tr>\n",
       "    <tr>\n",
       "      <th>3</th>\n",
       "      <td>JAM</td>\n",
       "      <td>MAGGI</td>\n",
       "      <td>BREAD</td>\n",
       "      <td>MILK</td>\n",
       "    </tr>\n",
       "    <tr>\n",
       "      <th>4</th>\n",
       "      <td>MAGGI</td>\n",
       "      <td>TEA</td>\n",
       "      <td>BISCUIT</td>\n",
       "      <td>NaN</td>\n",
       "    </tr>\n",
       "  </tbody>\n",
       "</table>\n",
       "</div>"
      ],
      "text/plain": [
       "       0      1          2           3\n",
       "0  BREAD   MILK    BISCUIT  CORNFLAKES\n",
       "1   MILK  BREAD    BISCUIT         NaN\n",
       "2  BREAD    TEA  BOURNVITA         NaN\n",
       "3    JAM  MAGGI      BREAD        MILK\n",
       "4  MAGGI    TEA    BISCUIT         NaN"
      ]
     },
     "execution_count": 3,
     "metadata": {},
     "output_type": "execute_result"
    }
   ],
   "source": [
    "df.head()"
   ]
  },
  {
   "cell_type": "markdown",
   "metadata": {},
   "source": [
    "### Data Preprocessing "
   ]
  },
  {
   "cell_type": "code",
   "execution_count": 4,
   "metadata": {},
   "outputs": [
    {
     "data": {
      "text/plain": [
       "0     0\n",
       "1     0\n",
       "2     1\n",
       "3    13\n",
       "dtype: int64"
      ]
     },
     "execution_count": 4,
     "metadata": {},
     "output_type": "execute_result"
    }
   ],
   "source": [
    "df.isnull().sum()"
   ]
  },
  {
   "cell_type": "code",
   "execution_count": 5,
   "metadata": {},
   "outputs": [],
   "source": [
    "df=df.fillna('nan')"
   ]
  },
  {
   "cell_type": "code",
   "execution_count": 6,
   "metadata": {},
   "outputs": [],
   "source": [
    "l=df.values.tolist()"
   ]
  },
  {
   "cell_type": "code",
   "execution_count": 7,
   "metadata": {},
   "outputs": [
    {
     "data": {
      "text/plain": [
       "[['BREAD', 'MILK', 'BISCUIT', 'CORNFLAKES'],\n",
       " ['MILK', 'BREAD', 'BISCUIT'],\n",
       " ['BREAD', 'TEA', 'BOURNVITA'],\n",
       " ['JAM', 'MAGGI', 'BREAD', 'MILK'],\n",
       " ['MAGGI', 'TEA', 'BISCUIT'],\n",
       " ['BREAD', 'TEA', 'BOURNVITA'],\n",
       " ['MAGGI', 'TEA', 'CORNFLAKES'],\n",
       " ['MAGGI', 'BREAD', 'TEA', 'BISCUIT'],\n",
       " ['JAM', 'MAGGI', 'BREAD', 'TEA'],\n",
       " ['BREAD', 'MILK', 'nan'],\n",
       " ['COFFEE', 'COCK', 'BISCUIT', 'CORNFLAKES'],\n",
       " ['COFFEE', 'COCK', 'BISCUIT', 'CORNFLAKES'],\n",
       " ['COFFEE', 'SUGER', 'BOURNVITA'],\n",
       " ['BREAD', 'COFFEE', 'COCK'],\n",
       " ['BREAD', 'SUGER', 'BISCUIT'],\n",
       " ['COFFEE', 'SUGER', 'CORNFLAKES'],\n",
       " ['BREAD', 'SUGER', 'BOURNVITA'],\n",
       " ['BREAD', 'COFFEE', 'SUGER'],\n",
       " ['BREAD', 'COFFEE', 'SUGER'],\n",
       " ['TEA', 'MILK', 'COFFEE', 'CORNFLAKES']]"
      ]
     },
     "execution_count": 7,
     "metadata": {},
     "output_type": "execute_result"
    }
   ],
   "source": [
    "[l[i].remove(\"nan\") for i in range(len(l)) if 'nan' in l[i] ]\n",
    "l"
   ]
  },
  {
   "cell_type": "markdown",
   "metadata": {},
   "source": [
    "### Apply Apriori Algorithm"
   ]
  },
  {
   "cell_type": "code",
   "execution_count": 8,
   "metadata": {},
   "outputs": [],
   "source": [
    "from apyori import apriori\n",
    "\n",
    "rules = apriori(l,  min_support = 0.1, min_confidence=0.35, min_lift=1.1, max_length=2)"
   ]
  },
  {
   "cell_type": "code",
   "execution_count": 9,
   "metadata": {
    "scrolled": false
   },
   "outputs": [],
   "source": [
    "association_results = list(rules)"
   ]
  },
  {
   "cell_type": "code",
   "execution_count": 10,
   "metadata": {},
   "outputs": [
    {
     "data": {
      "text/plain": [
       "[RelationRecord(items=frozenset({'COCK', 'BISCUIT'}), support=0.1, ordered_statistics=[OrderedStatistic(items_base=frozenset({'COCK'}), items_add=frozenset({'BISCUIT'}), confidence=0.6666666666666667, lift=1.904761904761905)]),\n",
       " RelationRecord(items=frozenset({'CORNFLAKES', 'BISCUIT'}), support=0.15, ordered_statistics=[OrderedStatistic(items_base=frozenset({'BISCUIT'}), items_add=frozenset({'CORNFLAKES'}), confidence=0.4285714285714286, lift=1.4285714285714288), OrderedStatistic(items_base=frozenset({'CORNFLAKES'}), items_add=frozenset({'BISCUIT'}), confidence=0.5, lift=1.4285714285714286)]),\n",
       " RelationRecord(items=frozenset({'BISCUIT', 'MAGGI'}), support=0.1, ordered_statistics=[OrderedStatistic(items_base=frozenset({'MAGGI'}), items_add=frozenset({'BISCUIT'}), confidence=0.4, lift=1.142857142857143)]),\n",
       " RelationRecord(items=frozenset({'BISCUIT', 'MILK'}), support=0.1, ordered_statistics=[OrderedStatistic(items_base=frozenset({'MILK'}), items_add=frozenset({'BISCUIT'}), confidence=0.4, lift=1.142857142857143)]),\n",
       " RelationRecord(items=frozenset({'BOURNVITA', 'BREAD'}), support=0.15, ordered_statistics=[OrderedStatistic(items_base=frozenset({'BOURNVITA'}), items_add=frozenset({'BREAD'}), confidence=0.7499999999999999, lift=1.1538461538461537)]),\n",
       " RelationRecord(items=frozenset({'BOURNVITA', 'SUGER'}), support=0.1, ordered_statistics=[OrderedStatistic(items_base=frozenset({'BOURNVITA'}), items_add=frozenset({'SUGER'}), confidence=0.5, lift=1.6666666666666667)]),\n",
       " RelationRecord(items=frozenset({'BOURNVITA', 'TEA'}), support=0.1, ordered_statistics=[OrderedStatistic(items_base=frozenset({'BOURNVITA'}), items_add=frozenset({'TEA'}), confidence=0.5, lift=1.4285714285714286)]),\n",
       " RelationRecord(items=frozenset({'BREAD', 'JAM'}), support=0.1, ordered_statistics=[OrderedStatistic(items_base=frozenset({'JAM'}), items_add=frozenset({'BREAD'}), confidence=1.0, lift=1.5384615384615383)]),\n",
       " RelationRecord(items=frozenset({'BREAD', 'MILK'}), support=0.2, ordered_statistics=[OrderedStatistic(items_base=frozenset({'MILK'}), items_add=frozenset({'BREAD'}), confidence=0.8, lift=1.2307692307692308)]),\n",
       " RelationRecord(items=frozenset({'COCK', 'COFFEE'}), support=0.15, ordered_statistics=[OrderedStatistic(items_base=frozenset({'COCK'}), items_add=frozenset({'COFFEE'}), confidence=1.0, lift=2.5), OrderedStatistic(items_base=frozenset({'COFFEE'}), items_add=frozenset({'COCK'}), confidence=0.37499999999999994, lift=2.4999999999999996)]),\n",
       " RelationRecord(items=frozenset({'COCK', 'CORNFLAKES'}), support=0.1, ordered_statistics=[OrderedStatistic(items_base=frozenset({'COCK'}), items_add=frozenset({'CORNFLAKES'}), confidence=0.6666666666666667, lift=2.2222222222222228)]),\n",
       " RelationRecord(items=frozenset({'CORNFLAKES', 'COFFEE'}), support=0.2, ordered_statistics=[OrderedStatistic(items_base=frozenset({'COFFEE'}), items_add=frozenset({'CORNFLAKES'}), confidence=0.5, lift=1.6666666666666667), OrderedStatistic(items_base=frozenset({'CORNFLAKES'}), items_add=frozenset({'COFFEE'}), confidence=0.6666666666666667, lift=1.6666666666666667)]),\n",
       " RelationRecord(items=frozenset({'SUGER', 'COFFEE'}), support=0.2, ordered_statistics=[OrderedStatistic(items_base=frozenset({'COFFEE'}), items_add=frozenset({'SUGER'}), confidence=0.5, lift=1.6666666666666667), OrderedStatistic(items_base=frozenset({'SUGER'}), items_add=frozenset({'COFFEE'}), confidence=0.6666666666666667, lift=1.6666666666666667)]),\n",
       " RelationRecord(items=frozenset({'CORNFLAKES', 'MILK'}), support=0.1, ordered_statistics=[OrderedStatistic(items_base=frozenset({'MILK'}), items_add=frozenset({'CORNFLAKES'}), confidence=0.4, lift=1.3333333333333335)]),\n",
       " RelationRecord(items=frozenset({'JAM', 'MAGGI'}), support=0.1, ordered_statistics=[OrderedStatistic(items_base=frozenset({'JAM'}), items_add=frozenset({'MAGGI'}), confidence=1.0, lift=4.0), OrderedStatistic(items_base=frozenset({'MAGGI'}), items_add=frozenset({'JAM'}), confidence=0.4, lift=4.0)]),\n",
       " RelationRecord(items=frozenset({'TEA', 'MAGGI'}), support=0.2, ordered_statistics=[OrderedStatistic(items_base=frozenset({'MAGGI'}), items_add=frozenset({'TEA'}), confidence=0.8, lift=2.285714285714286), OrderedStatistic(items_base=frozenset({'TEA'}), items_add=frozenset({'MAGGI'}), confidence=0.5714285714285715, lift=2.285714285714286)])]"
      ]
     },
     "execution_count": 10,
     "metadata": {},
     "output_type": "execute_result"
    }
   ],
   "source": [
    "association_results"
   ]
  },
  {
   "cell_type": "code",
   "execution_count": 11,
   "metadata": {},
   "outputs": [
    {
     "name": "stdout",
     "output_type": "stream",
     "text": [
      "Rule: COCK -> BISCUIT\n",
      "Support: 0.1\n",
      "Confidence: 0.6666666666666667\n",
      "Lift: 1.904761904761905\n",
      "=====================================\n",
      "Rule: CORNFLAKES -> BISCUIT\n",
      "Support: 0.15\n",
      "Confidence: 0.4285714285714286\n",
      "Lift: 1.4285714285714288\n",
      "=====================================\n",
      "Rule: BISCUIT -> MAGGI\n",
      "Support: 0.1\n",
      "Confidence: 0.4\n",
      "Lift: 1.142857142857143\n",
      "=====================================\n",
      "Rule: BISCUIT -> MILK\n",
      "Support: 0.1\n",
      "Confidence: 0.4\n",
      "Lift: 1.142857142857143\n",
      "=====================================\n",
      "Rule: BOURNVITA -> BREAD\n",
      "Support: 0.15\n",
      "Confidence: 0.7499999999999999\n",
      "Lift: 1.1538461538461537\n",
      "=====================================\n",
      "Rule: BOURNVITA -> SUGER\n",
      "Support: 0.1\n",
      "Confidence: 0.5\n",
      "Lift: 1.6666666666666667\n",
      "=====================================\n",
      "Rule: BOURNVITA -> TEA\n",
      "Support: 0.1\n",
      "Confidence: 0.5\n",
      "Lift: 1.4285714285714286\n",
      "=====================================\n",
      "Rule: BREAD -> JAM\n",
      "Support: 0.1\n",
      "Confidence: 1.0\n",
      "Lift: 1.5384615384615383\n",
      "=====================================\n",
      "Rule: BREAD -> MILK\n",
      "Support: 0.2\n",
      "Confidence: 0.8\n",
      "Lift: 1.2307692307692308\n",
      "=====================================\n",
      "Rule: COCK -> COFFEE\n",
      "Support: 0.15\n",
      "Confidence: 1.0\n",
      "Lift: 2.5\n",
      "=====================================\n",
      "Rule: COCK -> CORNFLAKES\n",
      "Support: 0.1\n",
      "Confidence: 0.6666666666666667\n",
      "Lift: 2.2222222222222228\n",
      "=====================================\n",
      "Rule: CORNFLAKES -> COFFEE\n",
      "Support: 0.2\n",
      "Confidence: 0.5\n",
      "Lift: 1.6666666666666667\n",
      "=====================================\n",
      "Rule: SUGER -> COFFEE\n",
      "Support: 0.2\n",
      "Confidence: 0.5\n",
      "Lift: 1.6666666666666667\n",
      "=====================================\n",
      "Rule: CORNFLAKES -> MILK\n",
      "Support: 0.1\n",
      "Confidence: 0.4\n",
      "Lift: 1.3333333333333335\n",
      "=====================================\n",
      "Rule: JAM -> MAGGI\n",
      "Support: 0.1\n",
      "Confidence: 1.0\n",
      "Lift: 4.0\n",
      "=====================================\n",
      "Rule: TEA -> MAGGI\n",
      "Support: 0.2\n",
      "Confidence: 0.8\n",
      "Lift: 2.285714285714286\n",
      "=====================================\n"
     ]
    }
   ],
   "source": [
    "for item in association_results: \n",
    "    \n",
    "   # first index of the inner list\n",
    "    # Contains base item and add item\n",
    "    pair = item[0] \n",
    "    items = [x for x in pair]\n",
    "    print(\"Rule: \" + items[0] + \" -> \" + items[1])\n",
    "\n",
    "    #second index of the inner list\n",
    "    print(\"Support: \" + str(item[1]))\n",
    "\n",
    "    #third index of the list located at 0th\n",
    "    #of the third index of the inner list\n",
    "\n",
    "    print(\"Confidence: \" + str(item[2][0][2]))\n",
    "    print(\"Lift: \" + str(item[2][0][3]))\n",
    "    print(\"=====================================\")"
   ]
  },
  {
   "cell_type": "code",
   "execution_count": null,
   "metadata": {},
   "outputs": [],
   "source": []
  }
 ],
 "metadata": {
  "kernelspec": {
   "display_name": "Python 3",
   "language": "python",
   "name": "python3"
  },
  "language_info": {
   "codemirror_mode": {
    "name": "ipython",
    "version": 3
   },
   "file_extension": ".py",
   "mimetype": "text/x-python",
   "name": "python",
   "nbconvert_exporter": "python",
   "pygments_lexer": "ipython3",
   "version": "3.7.7"
  }
 },
 "nbformat": 4,
 "nbformat_minor": 4
}
